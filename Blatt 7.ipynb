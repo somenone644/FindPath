{
 "cells": [
  {
   "cell_type": "markdown",
   "id": "edea41a5",
   "metadata": {},
   "source": [
    "Aufgabe 7.0"
   ]
  },
  {
   "cell_type": "code",
   "execution_count": 29,
   "id": "a9cf6252",
   "metadata": {},
   "outputs": [],
   "source": [
    "import graphviz\n",
    "\n",
    "class Graph():\n",
    "    def __init__(self):\n",
    "        self.gr={}\n",
    "\n",
    "    def addNode(self,k):\n",
    "        if k in self.gr:\n",
    "            pass\n",
    "        \n",
    "        else:\n",
    "            self.gr[k]=set()\n",
    "            \n",
    "            \n",
    "    def addEdge(self,k,j):\n",
    "        if (k not in self.gr) or (j not in self.gr):\n",
    "            pass\n",
    "        \n",
    "        elif j in self.gr.get(k):\n",
    "            pass\n",
    "                \n",
    "        else:\n",
    "            (self.gr.get(k)).add(j)\n",
    "    \n",
    "    \n",
    "    \n",
    "    def E(self):\n",
    "        return list(self.gr.values())\n",
    "    \n",
    "    def V(self):\n",
    "        return list(self.gr.keys())\n",
    "        v_list=[]\n",
    "        for k in self.gr:\n",
    "            for v in self.gr.get(k):\n",
    "                v_list.append(str(k)+\"->\"+str(v))\n",
    "        return v_list      \n",
    "    \n",
    "    #def allSingles(self): wie kann ein Knoten in einem Graph keinen Nachabarn haben?\n",
    "        \n",
    "    def mostEdges(self):\n",
    "        m_list=[]                                   #liste m_list mit der Länge der sets (Werte des dicts) erstellt.\n",
    "        for v in self.gr:                           #b sei der größte Wert in m_list\n",
    "            a=len(self.gr.get(v))                   #falls b=der Länge eines Sets im dict entspricht, wird dessen\n",
    "            m_list.append(a)                        #key zurückgegeben\n",
    "        b = max(m_list)\n",
    "        for e in self.gr:\n",
    "            if len(self.gr.get(e))==b:\n",
    "                return e\n",
    "            \n",
    "    def neighbours(self,v):\n",
    "        n_list=[]\n",
    "        n2_list=[]\n",
    "        for e in self.gr.get(v):\n",
    "            if e==v:\n",
    "                continue\n",
    "            elif e in n_list:\n",
    "                continue\n",
    "            else:\n",
    "                n_list.append(e)\n",
    "                \n",
    "        for e in self.gr.get(v):                    #wenn es kein nachbarn v-1 gibt: Wähle den hinteren Nachbarn[-1]\n",
    "            if v-1!=0:\n",
    "                n_list.append(v-1)\n",
    "            else:\n",
    "                for i in self.gr:\n",
    "                    n2_list.append(i)\n",
    "                if max(n2_list) not in n_list:\n",
    "                    n_list.append(max(n2_list))\n",
    "                \n",
    "        return n_list\n",
    "            \n",
    "       \n",
    "    def goFromTo(self,k,j):\n",
    "        g_list=[]\n",
    "        g_list2=[]\n",
    "        g_list3=[]  #Speichert Knotensprünge\n",
    "        for e in self.gr.get(k):\n",
    "            g_list.append(e)\n",
    "        \n",
    "        \n",
    "        if j in g_list:\n",
    "            return \"Direkter Weg zu \"+str(j)+\" möglich.\"\n",
    "        else:\n",
    "            while j not in g_list:\n",
    "                \n",
    "                g_list2.clear()\n",
    "                a=g_list[0]        \n",
    "                if (a==k) or (a in g_list3):\n",
    "                    a=g_list[1]\n",
    "                if a not in g_list3:\n",
    "                    g_list3.append(a)\n",
    "                for x in self.gr.get(a):\n",
    "                    g_list2.append(x)\n",
    "                for y in g_list2:\n",
    "                    if y==j:\n",
    "                        g_list3.append(j)\n",
    "                        g_list.append(y)\n",
    "                        return g_list3\n",
    "                    else:\n",
    "                        g_list.clear()\n",
    "                        b=g_list2[0]\n",
    "                        if b in g_list3:\n",
    "                            b=g_list2[1]\n",
    "                        if b not in g_list3:\n",
    "                            g_list3.append(b)\n",
    "                        for z in self.gr.get(b):\n",
    "                            \n",
    "                            g_list.append(z)\n",
    "            return g_list3\n",
    "        \n",
    "        \n",
    "    \n",
    "    def drawGraph(self):\n",
    "        g = graphviz.Digraph()\n",
    "        d_list=[]\n",
    "        for k in self.gr:\n",
    "            for v in self.gr.get(k):\n",
    "                d_list.append((str(k),str(v)))\n",
    "        g.edges(d_list)\n",
    "        return g\n",
    "    g.edges((1,5),1,2) \n",
    "    "
   ]
  },
  {
   "cell_type": "code",
   "execution_count": 30,
   "id": "84b14133",
   "metadata": {},
   "outputs": [],
   "source": [
    "n_g={1:{2,3,4},2:{2,3},3:{4},4:{5},5:{1}}                       \n",
    "n_g=Graph()\n",
    "\n",
    "n_g.addNode(1)\n",
    "n_g.addNode(2)\n",
    "n_g.addNode(3)\n",
    "n_g.addNode(4)\n",
    "n_g.addNode(5)\n",
    "n_g.addEdge(1,2)\n",
    "n_g.addEdge(1,3)\n",
    "n_g.addEdge(1,4)\n",
    "n_g.addEdge(2,2)\n",
    "n_g.addEdge(2,3)\n",
    "n_g.addEdge(3,4)\n",
    "n_g.addEdge(4,5)\n",
    "n_g.addEdge(5,1)"
   ]
  },
  {
   "cell_type": "code",
   "execution_count": 31,
   "id": "4856e5dc",
   "metadata": {},
   "outputs": [
    {
     "data": {
      "text/plain": [
       "[{2, 3, 4}, {2, 3}, {4}, {5}, {1}]"
      ]
     },
     "execution_count": 31,
     "metadata": {},
     "output_type": "execute_result"
    }
   ],
   "source": [
    "n_g.E()"
   ]
  },
  {
   "cell_type": "code",
   "execution_count": 32,
   "id": "683844e7",
   "metadata": {},
   "outputs": [
    {
     "data": {
      "text/plain": [
       "[1, 2, 3, 4, 5]"
      ]
     },
     "execution_count": 32,
     "metadata": {},
     "output_type": "execute_result"
    }
   ],
   "source": [
    "n_g.V()"
   ]
  },
  {
   "cell_type": "code",
   "execution_count": 33,
   "id": "954883b1",
   "metadata": {},
   "outputs": [
    {
     "data": {
      "text/plain": [
       "1"
      ]
     },
     "execution_count": 33,
     "metadata": {},
     "output_type": "execute_result"
    }
   ],
   "source": [
    "n_g.mostEdges()"
   ]
  },
  {
   "cell_type": "code",
   "execution_count": 34,
   "id": "dbd5aca6",
   "metadata": {},
   "outputs": [
    {
     "data": {
      "text/plain": [
       "[2, 3, 4, 5]"
      ]
     },
     "execution_count": 34,
     "metadata": {},
     "output_type": "execute_result"
    }
   ],
   "source": [
    "n_g.neighbours(1)"
   ]
  },
  {
   "cell_type": "code",
   "execution_count": 35,
   "id": "506d47e0",
   "metadata": {},
   "outputs": [
    {
     "data": {
      "image/svg+xml": [
       "<?xml version=\"1.0\" encoding=\"UTF-8\" standalone=\"no\"?>\r\n",
       "<!DOCTYPE svg PUBLIC \"-//W3C//DTD SVG 1.1//EN\"\r\n",
       " \"http://www.w3.org/Graphics/SVG/1.1/DTD/svg11.dtd\">\r\n",
       "<!-- Generated by graphviz version 2.38.0 (20140413.2041)\r\n",
       " -->\r\n",
       "<!-- Title: %3 Pages: 1 -->\r\n",
       "<svg width=\"183pt\" height=\"332pt\"\r\n",
       " viewBox=\"0.00 0.00 183.00 332.00\" xmlns=\"http://www.w3.org/2000/svg\" xmlns:xlink=\"http://www.w3.org/1999/xlink\">\r\n",
       "<g id=\"graph0\" class=\"graph\" transform=\"scale(1 1) rotate(0) translate(4 328)\">\r\n",
       "<title>%3</title>\r\n",
       "<polygon fill=\"white\" stroke=\"none\" points=\"-4,4 -4,-328 179,-328 179,4 -4,4\"/>\r\n",
       "<!-- 1 -->\r\n",
       "<g id=\"node1\" class=\"node\"><title>1</title>\r\n",
       "<ellipse fill=\"none\" stroke=\"black\" cx=\"119\" cy=\"-306\" rx=\"27\" ry=\"18\"/>\r\n",
       "<text text-anchor=\"middle\" x=\"119\" y=\"-302.3\" font-family=\"Times New Roman,serif\" font-size=\"14.00\">1</text>\r\n",
       "</g>\r\n",
       "<!-- 2 -->\r\n",
       "<g id=\"node2\" class=\"node\"><title>2</title>\r\n",
       "<ellipse fill=\"none\" stroke=\"black\" cx=\"27\" cy=\"-234\" rx=\"27\" ry=\"18\"/>\r\n",
       "<text text-anchor=\"middle\" x=\"27\" y=\"-230.3\" font-family=\"Times New Roman,serif\" font-size=\"14.00\">2</text>\r\n",
       "</g>\r\n",
       "<!-- 1&#45;&gt;2 -->\r\n",
       "<g id=\"edge1\" class=\"edge\"><title>1&#45;&gt;2</title>\r\n",
       "<path fill=\"none\" stroke=\"black\" d=\"M101.696,-291.834C87.8174,-281.274 68.1373,-266.3 52.4614,-254.373\"/>\r\n",
       "<polygon fill=\"black\" stroke=\"black\" points=\"54.3045,-251.377 44.2269,-248.107 50.0659,-256.948 54.3045,-251.377\"/>\r\n",
       "</g>\r\n",
       "<!-- 3 -->\r\n",
       "<g id=\"node3\" class=\"node\"><title>3</title>\r\n",
       "<ellipse fill=\"none\" stroke=\"black\" cx=\"83\" cy=\"-162\" rx=\"27\" ry=\"18\"/>\r\n",
       "<text text-anchor=\"middle\" x=\"83\" y=\"-158.3\" font-family=\"Times New Roman,serif\" font-size=\"14.00\">3</text>\r\n",
       "</g>\r\n",
       "<!-- 1&#45;&gt;3 -->\r\n",
       "<g id=\"edge2\" class=\"edge\"><title>1&#45;&gt;3</title>\r\n",
       "<path fill=\"none\" stroke=\"black\" d=\"M114.729,-288.153C108.558,-263.813 97.0877,-218.568 89.7602,-189.665\"/>\r\n",
       "<polygon fill=\"black\" stroke=\"black\" points=\"93.1157,-188.658 87.2655,-179.825 86.3304,-190.378 93.1157,-188.658\"/>\r\n",
       "</g>\r\n",
       "<!-- 4 -->\r\n",
       "<g id=\"node4\" class=\"node\"><title>4</title>\r\n",
       "<ellipse fill=\"none\" stroke=\"black\" cx=\"121\" cy=\"-90\" rx=\"27\" ry=\"18\"/>\r\n",
       "<text text-anchor=\"middle\" x=\"121\" y=\"-86.3\" font-family=\"Times New Roman,serif\" font-size=\"14.00\">4</text>\r\n",
       "</g>\r\n",
       "<!-- 1&#45;&gt;4 -->\r\n",
       "<g id=\"edge3\" class=\"edge\"><title>1&#45;&gt;4</title>\r\n",
       "<path fill=\"none\" stroke=\"black\" d=\"M119.16,-287.849C119.506,-250.832 120.325,-163.181 120.744,-118.386\"/>\r\n",
       "<polygon fill=\"black\" stroke=\"black\" points=\"124.245,-118.265 120.839,-108.232 117.246,-118.199 124.245,-118.265\"/>\r\n",
       "</g>\r\n",
       "<!-- 2&#45;&gt;2 -->\r\n",
       "<g id=\"edge4\" class=\"edge\"><title>2&#45;&gt;2</title>\r\n",
       "<path fill=\"none\" stroke=\"black\" d=\"M46.895,-246.432C59.688,-249.675 72,-245.531 72,-234 72,-225.622 65.5006,-221.143 57.0395,-220.564\"/>\r\n",
       "<polygon fill=\"black\" stroke=\"black\" points=\"56.5019,-217.1 46.895,-221.568 57.191,-224.066 56.5019,-217.1\"/>\r\n",
       "</g>\r\n",
       "<!-- 2&#45;&gt;3 -->\r\n",
       "<g id=\"edge5\" class=\"edge\"><title>2&#45;&gt;3</title>\r\n",
       "<path fill=\"none\" stroke=\"black\" d=\"M39.1512,-217.811C46.5629,-208.546 56.1838,-196.52 64.5245,-186.094\"/>\r\n",
       "<polygon fill=\"black\" stroke=\"black\" points=\"67.3586,-188.154 70.8725,-178.159 61.8925,-183.782 67.3586,-188.154\"/>\r\n",
       "</g>\r\n",
       "<!-- 3&#45;&gt;4 -->\r\n",
       "<g id=\"edge6\" class=\"edge\"><title>3&#45;&gt;4</title>\r\n",
       "<path fill=\"none\" stroke=\"black\" d=\"M91.8135,-144.765C96.4177,-136.283 102.155,-125.714 107.321,-116.197\"/>\r\n",
       "<polygon fill=\"black\" stroke=\"black\" points=\"110.539,-117.606 112.234,-107.147 104.387,-114.266 110.539,-117.606\"/>\r\n",
       "</g>\r\n",
       "<!-- 5 -->\r\n",
       "<g id=\"node5\" class=\"node\"><title>5</title>\r\n",
       "<ellipse fill=\"none\" stroke=\"black\" cx=\"148\" cy=\"-18\" rx=\"27\" ry=\"18\"/>\r\n",
       "<text text-anchor=\"middle\" x=\"148\" y=\"-14.3\" font-family=\"Times New Roman,serif\" font-size=\"14.00\">5</text>\r\n",
       "</g>\r\n",
       "<!-- 4&#45;&gt;5 -->\r\n",
       "<g id=\"edge7\" class=\"edge\"><title>4&#45;&gt;5</title>\r\n",
       "<path fill=\"none\" stroke=\"black\" d=\"M127.399,-72.411C130.514,-64.3352 134.334,-54.4312 137.835,-45.3547\"/>\r\n",
       "<polygon fill=\"black\" stroke=\"black\" points=\"141.126,-46.5458 141.46,-35.9562 134.595,-44.0267 141.126,-46.5458\"/>\r\n",
       "</g>\r\n",
       "<!-- 5&#45;&gt;1 -->\r\n",
       "<g id=\"edge8\" class=\"edge\"><title>5&#45;&gt;1</title>\r\n",
       "<path fill=\"none\" stroke=\"black\" d=\"M151.654,-36.0925C153.676,-46.4315 155.981,-59.9098 157,-72 163.361,-147.46 140.746,-235.367 127.667,-278.446\"/>\r\n",
       "<polygon fill=\"black\" stroke=\"black\" points=\"124.275,-277.567 124.648,-288.155 130.959,-279.646 124.275,-277.567\"/>\r\n",
       "</g>\r\n",
       "</g>\r\n",
       "</svg>\r\n"
      ],
      "text/plain": [
       "<graphviz.dot.Digraph at 0x24f075dc160>"
      ]
     },
     "execution_count": 35,
     "metadata": {},
     "output_type": "execute_result"
    }
   ],
   "source": [
    "n_g.drawGraph()"
   ]
  },
  {
   "cell_type": "markdown",
   "id": "b2eee28b",
   "metadata": {},
   "source": [
    "Aufgabe 7.1"
   ]
  },
  {
   "cell_type": "code",
   "execution_count": 2,
   "id": "0e4bb6a1",
   "metadata": {},
   "outputs": [],
   "source": [
    "class Cntr():\n",
    "    def __init__(self,s=[]):\n",
    "        self.sequenz = s\n",
    "        self.c={}\n",
    "        for el in s:\n",
    "            if el not in self.c:\n",
    "                self.c[el] = 1 #{\"H\":1}\n",
    "            else:\n",
    "                self.c[el] += 1 #{\"H\": 1, \"l\":3, \"o\":2}\n",
    "        self.d=[]\n",
    "        for x in s:\n",
    "            self.d.append(x)\n",
    "        for y in self.d:\n",
    "            self.c[y]=self.d.count(y)\n",
    "            \n",
    "    def __repr__(self):\n",
    "        return str(self.c.keys())+\"-->\"+str(self.c.values())\n",
    "    \n",
    "    def most(self):\n",
    "        m_list=[]\n",
    "        for v in self.c:\n",
    "            m_list.append(self.c.get(v)) \n",
    "        a=max(m_list)    \n",
    "        for k in self.c:\n",
    "            if self.c.get(k)==a:\n",
    "                return k\n",
    "            \n",
    "    def __add__(self,v):\n",
    "        newSequenz = self.sequenz + v.sequenz\n",
    "        obj = Cntr(newSequenz)\n",
    "        self.sequenz = obj.sequenz\n",
    "        self.c = obj.c\n",
    "        return self\n",
    "        l1=[]\n",
    "        l2=[]\n",
    "        l3=[]\n",
    "        l4=[]\n",
    "        d1={}\n",
    "        s1=set()\n",
    "        for e in self.c.values():\n",
    "            l1.append(e)\n",
    "        for e in v.c.values():\n",
    "            l2.append(e)\n",
    "        for e in self.c:\n",
    "            l3.append(e)\n",
    "        for e in v.c:\n",
    "            l4.append(e)\n",
    "        s1=set(l3).intersection(set(l4))\n",
    "        self.c.update(v.c)\n",
    "        for e in s1:\n",
    "            a=l3.index(e)\n",
    "            b=l4.index(e)\n",
    "            c=l1[a]+l2[b]\n",
    "            d1[e]=c\n",
    "        self.c.update(d1)    \n",
    "        for e in self.c:\n",
    "            print(e+\"-->\"+str(self.c.get(e)))\n",
    "            \n",
    "    def __mul__(self,v):\n",
    "        l1=[]\n",
    "        l2=[]\n",
    "        l3=[]\n",
    "        l4=[]\n",
    "        d1={}\n",
    "        s1=set()\n",
    "        for e in self.c.values():\n",
    "            l1.append(e)\n",
    "        for e in v.c.values():\n",
    "            l2.append(e)\n",
    "        for e in self.c:\n",
    "            l3.append(e)\n",
    "        for e in v.c:\n",
    "            l4.append(e)\n",
    "        s1=set(l3).intersection(set(l4))\n",
    "        self.c.update(v.c)\n",
    "        for e in s1:\n",
    "            a=l3.index(e)\n",
    "            b=l4.index(e)\n",
    "            c=l1[a]*l2[b]\n",
    "            d1[e]=c\n",
    "        self.c.update(d1)    \n",
    "        for e in self.c:\n",
    "            print(e+\"-->\"+str(self.c.get(e)))"
   ]
  },
  {
   "cell_type": "code",
   "execution_count": 3,
   "id": "e36c1a04",
   "metadata": {},
   "outputs": [
    {
     "data": {
      "text/plain": [
       "'Hello Welt hello'"
      ]
     },
     "execution_count": 3,
     "metadata": {},
     "output_type": "execute_result"
    }
   ],
   "source": [
    "d=Cntr(\"Hello Welt hello\")\n",
    "d.sequenz"
   ]
  },
  {
   "cell_type": "code",
   "execution_count": 4,
   "id": "92205d21",
   "metadata": {},
   "outputs": [
    {
     "data": {
      "text/plain": [
       "'Humpalumpa'"
      ]
     },
     "execution_count": 4,
     "metadata": {},
     "output_type": "execute_result"
    }
   ],
   "source": [
    "b = Cntr(\"Humpalumpa\")\n",
    "b.sequenz"
   ]
  },
  {
   "cell_type": "code",
   "execution_count": 5,
   "id": "60fd5511",
   "metadata": {},
   "outputs": [
    {
     "data": {
      "text/plain": [
       "dict_keys(['H', 'e', 'l', 'o', ' ', 'W', 't', 'h', 'u', 'm', 'p', 'a'])-->dict_values([2, 3, 6, 2, 2, 1, 1, 1, 2, 2, 2, 2])"
      ]
     },
     "execution_count": 5,
     "metadata": {},
     "output_type": "execute_result"
    }
   ],
   "source": [
    "d + b"
   ]
  },
  {
   "cell_type": "code",
   "execution_count": 6,
   "id": "2ab5dc69",
   "metadata": {},
   "outputs": [
    {
     "data": {
      "text/plain": [
       "dict_keys(['H', 'e', 'l', 'o', ' ', 'W', 't', 'h', 'u', 'm', 'p', 'a'])-->dict_values([2, 3, 6, 2, 2, 1, 1, 1, 2, 2, 2, 2])"
      ]
     },
     "execution_count": 6,
     "metadata": {},
     "output_type": "execute_result"
    }
   ],
   "source": [
    "d"
   ]
  },
  {
   "cell_type": "code",
   "execution_count": 7,
   "id": "7a32eaff",
   "metadata": {},
   "outputs": [
    {
     "name": "stdout",
     "output_type": "stream",
     "text": [
      "H-->2\n",
      "e-->6\n",
      "l-->12\n",
      "o-->2\n",
      " -->2\n",
      "W-->1\n",
      "t-->1\n",
      "h-->1\n",
      "u-->2\n",
      "m-->2\n",
      "p-->2\n",
      "a-->2\n",
      "b-->1\n",
      "i-->1\n",
      "r-->1\n"
     ]
    }
   ],
   "source": [
    "d*Cntr(\"Halbleiter\")"
   ]
  },
  {
   "cell_type": "code",
   "execution_count": null,
   "id": "1345966f",
   "metadata": {},
   "outputs": [],
   "source": []
  },
  {
   "cell_type": "code",
   "execution_count": null,
   "id": "b710c6dd",
   "metadata": {},
   "outputs": [],
   "source": []
  }
 ],
 "metadata": {
  "kernelspec": {
   "display_name": "Python 3",
   "language": "python",
   "name": "python3"
  },
  "language_info": {
   "codemirror_mode": {
    "name": "ipython",
    "version": 3
   },
   "file_extension": ".py",
   "mimetype": "text/x-python",
   "name": "python",
   "nbconvert_exporter": "python",
   "pygments_lexer": "ipython3",
   "version": "3.8.8"
  }
 },
 "nbformat": 4,
 "nbformat_minor": 5
}
